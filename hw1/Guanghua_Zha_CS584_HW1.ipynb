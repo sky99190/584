{
 "cells": [
  {
   "cell_type": "markdown",
   "metadata": {},
   "source": [
    "CS 584 HW 1 Text Classification<br>\n",
    "Guanghua Zha 9/20/2019<br>"
   ]
  },
  {
   "cell_type": "markdown",
   "metadata": {},
   "source": [
    "# 1. Processing data"
   ]
  },
  {
   "cell_type": "markdown",
   "metadata": {},
   "source": [
    "Read in txt file one by one. <br>\n",
    "Remove those content that added by the website such as copyright by manually  define start and end of the content.<br> \n",
    "Remove '\\n' and all the punctuation. <br>\n",
    "Remove title.<br>"
   ]
  },
  {
   "cell_type": "code",
   "execution_count": 1,
   "metadata": {},
   "outputs": [],
   "source": [
    "import re\n",
    "import numpy as np\n",
    "import random\n",
    "import gc\n",
    "from sklearn.feature_extraction.text import TfidfVectorizer\n",
    "import matplotlib.pyplot as plt\n",
    "\n",
    "def checkTitle_pg1661(a):\n",
    "    if type(a)!=str:\n",
    "        return\n",
    "    bank=set()\n",
    "    bank.add('I.')\n",
    "    bank.add('V.')\n",
    "    bank.add('X.')\n",
    "    bank.add('IV')\n",
    "    bank.add('VI')\n",
    "    bank.add('IX')\n",
    "    bank.add('XI')\n",
    "    bank.add('II')\n",
    "    bank.add('VI')\n",
    "    bank.add('XI')\n",
    "    bank.add('VI')\n",
    "    if a[0:2] in bank or a[0:13]==\"ADVENTURE IV.\":\n",
    "        #print(a)\n",
    "        return 1\n",
    "    else:\n",
    "        return 0\n",
    "\n",
    "def checkTitle_pg280540(a):\n",
    "    if type(a)!=str:\n",
    "        return\n",
    "    bank=set()\n",
    "    bank.add('PART ')\n",
    "    bank.add('Book ')\n",
    "    bank.add('Chapter ')\n",
    "    if a[0:8] in bank or a[0:5] in bank:\n",
    "        #print(a)\n",
    "        return 1\n",
    "    else:\n",
    "        return 0\n",
    "    \n",
    "def checkTitle_pg31100(a):\n",
    "    if type(a)!=str:\n",
    "        return\n",
    "    bank=set()\n",
    "    bank.add('Chapter ')\n",
    "    bank.add('CHAPTER ')\n",
    "    \n",
    "    if a[0:9] in bank :\n",
    "        #print(a)\n",
    "        return 1\n",
    "    else:\n",
    "        return 0\n",
    "    \n",
    "def pg1661():\n",
    "    fp=open('data/pg1661.txt','r',encoding='utf8');\n",
    "    start=\"To Sherlock Holmes she is always THE woman. I have seldom heard\\n\"\n",
    "    end=\"End of the Project Gutenberg EBook of The Adventures of Sherlock Holmes, by \\n\"\n",
    "    line=fp.readline()\n",
    "    while line!=start:\n",
    "        line=fp.readline()\n",
    "        \n",
    "    p=[]\n",
    "    pAll=''\n",
    "    while line and line!=end:\n",
    "        data=line.strip('\\n')\n",
    "        line=fp.readline()\n",
    "        while line!='\\n':\n",
    "            line=line.strip('\\n')\n",
    "            line=re.sub(r'[^\\w\\s]','',line)\n",
    "            data=data+' '+line\n",
    "            line=fp.readline()\n",
    "        p.append(data)\n",
    "        pAll=pAll+' '+data\n",
    "        while line=='\\n' or line.strip()=='' or checkTitle_pg1661(line)==1:\n",
    "            line=fp.readline()\n",
    "    fp.close()\n",
    "    \n",
    "    return p,pAll\n",
    "    \n",
    "def pg31100():\n",
    "    fp=open('data/pg31100.txt','r',encoding='utf8');\n",
    "    start=\"Sir Walter Elliot, of Kellynch Hall, in Somersetshire, was a man who,\\n\"\n",
    "    end=\"End of the Project Gutenberg EBook of The Complete Works of Jane Austen,\\n\"\n",
    "    line=fp.readline()\n",
    "    while line!=start:\n",
    "        \n",
    "        line=fp.readline()\n",
    "        \n",
    "    p=[]\n",
    "    pAll=''\n",
    "    while line and line!=end:\n",
    "        data=line.strip('\\n')\n",
    "        line=fp.readline()\n",
    "        while line!='\\n':\n",
    "            line=line.strip('\\n')\n",
    "            line=re.sub(r'[^\\w\\s]','',line)\n",
    "            data=data+' '+line\n",
    "            line=fp.readline()\n",
    "        p.append(data)\n",
    "        pAll=pAll+' '+data\n",
    "        while line=='\\n' or line.strip()=='' or checkTitle_pg31100(line)==1:\n",
    "            line=fp.readline()\n",
    "    fp.close()\n",
    "    return p,pAll\n",
    "    \n",
    "    \n",
    "    \n",
    "def pg280540():\n",
    "    fp=open('data/28054-0.txt','r',encoding='utf8');\n",
    "    start=\"Alexey Fyodorovitch Karamazov was the third son of Fyodor Pavlovitch\\n\"\n",
    "    end=\"***END OF THE PROJECT GUTENBERG EBOOK THE BROTHERS KARAMAZOV***\\n\"\n",
    "    line=fp.readline()\n",
    "    while line!=start:\n",
    "        \n",
    "        line=fp.readline()\n",
    "        \n",
    "    p=[]\n",
    "    pAll=''\n",
    "    while line and line!=end:\n",
    "        data=line.strip('\\n')\n",
    "        line=fp.readline()\n",
    "        while line!='\\n':\n",
    "            line=line.strip('\\n')\n",
    "            line=re.sub(r'[^\\w\\s]','',line)\n",
    "            data=data+' '+line\n",
    "            line=fp.readline()\n",
    "        p.append(data)\n",
    "        pAll=pAll+' '+data\n",
    "        while line=='\\n' or line.strip()=='' or checkTitle_pg280540(line)==1:\n",
    "            line=fp.readline()\n",
    "    fp.close()\n",
    "    return p,pAll"
   ]
  },
  {
   "cell_type": "code",
   "execution_count": 2,
   "metadata": {},
   "outputs": [],
   "source": [
    "p1,p1All=pg1661()\n",
    "p2,p2All=pg31100()\n",
    "p3,p3All=pg280540()\n",
    "\n"
   ]
  },
  {
   "cell_type": "markdown",
   "metadata": {},
   "source": [
    "Shuffle the data"
   ]
  },
  {
   "cell_type": "code",
   "execution_count": 3,
   "metadata": {},
   "outputs": [],
   "source": [
    "\n",
    "random.shuffle(p1)\n",
    "random.shuffle(p1)\n",
    "random.shuffle(p2)\n",
    "random.shuffle(p2)\n",
    "random.shuffle(p3)\n",
    "random.shuffle(p3)\n",
    "\n"
   ]
  },
  {
   "cell_type": "markdown",
   "metadata": {},
   "source": [
    "Separate the data to training and test set. 70% training and 30% test."
   ]
  },
  {
   "cell_type": "code",
   "execution_count": 4,
   "metadata": {},
   "outputs": [
    {
     "name": "stdout",
     "output_type": "stream",
     "text": [
      "True\n",
      "1768\n",
      "True\n",
      "7734\n",
      "True\n",
      "4089\n"
     ]
    }
   ],
   "source": [
    "p1Train=p1[:int(len(p1)*0.7)]\n",
    "p1Test=p1[int(len(p1)*0.7):]\n",
    "print(len(p1)==len(p1Train)+len(p1Test))\n",
    "print(len(p1Train))\n",
    "p2Train=p2[:int(len(p2)*0.7)]\n",
    "p2Test=p2[int(len(p2)*0.7):]\n",
    "print(len(p2)==len(p2Train)+len(p2Test))\n",
    "print(len(p2Train))\n",
    "p3Train=p3[:int(len(p3)*0.7)]\n",
    "p3Test=p3[int(len(p3)*0.7):]\n",
    "print(len(p3)==len(p3Train)+len(p3Test))\n",
    "print(len(p3Train))"
   ]
  },
  {
   "cell_type": "markdown",
   "metadata": {},
   "source": [
    "Use tfidVectorizer in sklearn to change the raw text to tfid array. Then preparing training/testing set."
   ]
  },
  {
   "cell_type": "code",
   "execution_count": 5,
   "metadata": {},
   "outputs": [],
   "source": [
    "p1TrainAll=''\n",
    "for para in p1Train:\n",
    "    p1TrainAll=p1TrainAll+' '+para\n",
    "    \n",
    "p2TrainAll=''\n",
    "for para in p2Train:\n",
    "    p2TrainAll=p2TrainAll+' '+para\n",
    "    \n",
    "p3TrainAll=''\n",
    "for para in p3Train:\n",
    "    p3TrainAll=p3TrainAll+' '+para\n",
    "    \n",
    "vectorizer = TfidfVectorizer()\n",
    "vectorizer.fit([p1TrainAll,p2TrainAll,p3TrainAll])\n",
    "x1T=vectorizer.transform(p1Train).toarray()\n",
    "x1E=vectorizer.transform(p1Test).toarray()\n",
    "x2T=vectorizer.transform(p2Train).toarray()\n",
    "x2E=vectorizer.transform(p2Test).toarray()\n",
    "x3T=vectorizer.transform(p3Train).toarray()\n",
    "x3E=vectorizer.transform(p3Test).toarray()\n",
    "\n",
    "y1T=np.full((len(x1T),3),[1,0,0])\n",
    "y1E=np.full((len(x1E),3),[1,0,0])\n",
    "y2T=np.full((len(x2T),3),[0,1,0])\n",
    "y2E=np.full((len(x2E),3),[0,1,0])\n",
    "y3T=np.full((len(x3T),3),[0,0,1])\n",
    "y3E=np.full((len(x3E),3),[0,0,1])\n",
    "\n",
    "\n",
    "yTrain=np.concatenate((y1T,y2T,y3T))\n",
    "xTrain=np.concatenate((x1T,x2T,x3T))"
   ]
  },
  {
   "cell_type": "markdown",
   "metadata": {},
   "source": [
    "# 2. Logistic Regression model"
   ]
  },
  {
   "cell_type": "markdown",
   "metadata": {},
   "source": [
    "Implement logistic regression model with gradient descent and stochastic gradient descent."
   ]
  },
  {
   "cell_type": "code",
   "execution_count": 6,
   "metadata": {},
   "outputs": [
    {
     "name": "stdout",
     "output_type": "stream",
     "text": [
      "gd iteration on class  0\n",
      "gd iteration on class  1\n",
      "gd iteration on class  2\n"
     ]
    },
    {
     "data": {
      "image/png": "[encoded data removed]",
      "text/plain": [
       "<Figure size 432x288 with 1 Axes>"
      ]
     },
     "metadata": {
      "needs_background": "light"
     },
     "output_type": "display_data"
    },
    {
     "name": "stdout",
     "output_type": "stream",
     "text": [
      "3 751 4\n",
      "Accuracy on txt1 : 0.00395778364116095\n",
      "12 3303 1\n",
      "Accuracy on txt2 : 0.9960796139927623\n",
      "1 1684 68\n",
      "Accuracy on txt3:  0.0387906446092413\n",
      "overall accuracy:  0.5790286596876609\n",
      "--------------\n",
      "sgd iteration on class  0\n",
      "sgd iteration on class  1\n",
      "sgd iteration on class  2\n"
     ]
    },
    {
     "data": {
      "image/png": "[encoded data removed]",
      "text/plain": [
       "<Figure size 432x288 with 1 Axes>"
      ]
     },
     "metadata": {
      "needs_background": "light"
     },
     "output_type": "display_data"
    },
    {
     "name": "stdout",
     "output_type": "stream",
     "text": [
      "330 248 180\n",
      "Accuracy on txt1 : 0.43535620052770446\n",
      "43 3107 166\n",
      "Accuracy on txt2 : 0.9369722557297949\n",
      "30 296 1427\n",
      "Accuracy on txt3:  0.814033086138049\n",
      "overall accuracy:  0.8347348549854128\n",
      "--------------\n"
     ]
    }
   ],
   "source": [
    "def sigmoid(z):\n",
    "    return 1/(1+np.exp(-z))\n",
    "\n",
    "def crossEntropy(w,x):\n",
    "    xw=np.dot(x,w)\n",
    "    return sigmoid(xw)\n",
    "    \n",
    "\n",
    "def crossEntropyLoss(w,x,y):\n",
    "    h=crossEntropy(w,x)\n",
    "    n=len(y)\n",
    "    loss=1/n * np.sum(-y*np.log(h)-(1-y)*np.log(1-h))\n",
    "    \n",
    "    gradient=1/n*(np.dot(h-y,x))\n",
    "    \n",
    "    return loss,gradient\n",
    "\n",
    "def crossEntropyLoss_sgd(w,x,y):\n",
    "    h=crossEntropy(w,x)\n",
    "    \n",
    "    loss= (-y*np.log(h)-(1-y)*np.log(1-h))\n",
    "    \n",
    "    gradient=(np.dot(h-y,x))\n",
    "    \n",
    "    return loss,gradient\n",
    "\n",
    "def fit_gd(x,y,iteration=50,stepsize=0.1):\n",
    "    \n",
    "    \n",
    "    aLoss=[]\n",
    "    aW=[]\n",
    "    for i in range(3):\n",
    "        yThis=y[:,i]\n",
    "        print(\"gd iteration on class \",i)\n",
    "        w=np.zeros(x.shape[1])\n",
    "        loss=np.zeros(iteration)\n",
    "        for j in range(iteration):\n",
    "            loss[j],gradient=crossEntropyLoss(w,x,yThis)\n",
    "            w-=gradient*stepsize\n",
    "        aLoss.append(loss)\n",
    "        aW.append(w)\n",
    "    return aW,aLoss\n",
    "\n",
    "def fit_sgd(x,y,iteration=10,stepsize=0.1):\n",
    "    aLoss=[]\n",
    "    aW=[]\n",
    "    for i in range(3):\n",
    "        print(\"sgd iteration on class \",i)\n",
    "        w=np.zeros(x.shape[1])\n",
    "        loss=np.zeros(iteration)\n",
    "        for j in range(iteration):\n",
    "            \n",
    "            randomIndex=np.random.permutation(x.shape[0])\n",
    "            xRand=x[randomIndex,:]\n",
    "            yRand=y[randomIndex,:]\n",
    "            yThis=yRand[:,i]\n",
    "            \n",
    "            lossThis=0\n",
    "            for k in range(xRand.shape[0]):\n",
    "                xk=xRand[k,:]\n",
    "                yk=yThis[k]\n",
    "                lossThis,gradient=crossEntropyLoss_sgd(w,xk,yk)\n",
    "                w-=gradient*stepsize\n",
    "                loss[j]+=lossThis\n",
    "            stepsize*=0.9\n",
    "            loss[j]/=xRand.shape[0]\n",
    "            gc.collect()\n",
    "            \n",
    "        aLoss.append(loss)\n",
    "        aW.append(w)\n",
    "    return aW,aLoss\n",
    "\n",
    "\n",
    "def predict(x,aW):\n",
    "    y=np.zeros((x.shape[0],3))\n",
    "    \n",
    "    for i in range(x.shape[0]):\n",
    "        result=[sigmoid(np.dot(x[i],w)) for w in aW]\n",
    "        y[i][np.argmax(result)]=1\n",
    "    return y\n",
    "\n",
    "def counting(py):\n",
    "    r1=0\n",
    "    r2=0\n",
    "    r3=0\n",
    "    for i in py:\n",
    "        if int(i[0])==1:\n",
    "            r1+=1\n",
    "        elif int(i[1])==1:\n",
    "            r2+=1\n",
    "        elif int(i[2])==1:\n",
    "            r3+=1\n",
    "    print(r1,r2,r3)\n",
    "    return [r1,r2,r3]\n",
    "\n",
    "\n",
    "def sgd():\n",
    "    aW,loss=fit_sgd(xTrain,yTrain)\n",
    "    loss=list(loss[0])+list(loss[1])+list(loss[2])\n",
    "    plt.plot(loss)\n",
    "    plt.show()\n",
    "    py1=predict(x1E,aW)\n",
    "    py2=predict(x2E,aW)\n",
    "    py3=predict(x3E,aW)\n",
    "    sum=0\n",
    "    r1,r2,r3=counting(py1)\n",
    "    sum=sum+r1+r2+r3\n",
    "    print(\"Accuracy on txt1 :\",r1/(r1+r2+r3))\n",
    "    rr1=r1\n",
    "    r1,r2,r3=counting(py2)\n",
    "    sum=sum+r1+r2+r3\n",
    "    print(\"Accuracy on txt2 :\",r2/(r1+r2+r3))\n",
    "    rr2=r2\n",
    "    r1,r2,r3=counting(py3)\n",
    "    sum=sum+r1+r2+r3\n",
    "    print(\"Accuracy on txt3: \",r3/(r1+r2+r3))\n",
    "    rr3=r3\n",
    "    print(\"overall accuracy: \",(rr1+rr2+rr3)/sum)\n",
    "    print(\"--------------\")\n",
    "    \n",
    "    \n",
    "def gd():\n",
    "    aW,loss=fit_gd(xTrain,yTrain)\n",
    "    loss=list(loss[0])+list(loss[1])+list(loss[2])\n",
    "    plt.plot(loss)\n",
    "    plt.show()\n",
    "    py1=predict(x1E,aW)\n",
    "    py2=predict(x2E,aW)\n",
    "    py3=predict(x3E,aW)\n",
    "    sum=0\n",
    "    r1,r2,r3=counting(py1)\n",
    "    sum=sum+r1+r2+r3\n",
    "    print(\"Accuracy on txt1 :\",r1/(r1+r2+r3))\n",
    "    rr1=r1\n",
    "    r1,r2,r3=counting(py2)\n",
    "    sum=sum+r1+r2+r3\n",
    "    print(\"Accuracy on txt2 :\",r2/(r1+r2+r3))\n",
    "    rr2=r2\n",
    "    r1,r2,r3=counting(py3)\n",
    "    sum=sum+r1+r2+r3\n",
    "    print(\"Accuracy on txt3: \",r3/(r1+r2+r3))\n",
    "    rr3=r3\n",
    "    print(\"overall accuracy: \",(rr1+rr2+rr3)/sum)\n",
    "    print(\"--------------\")\n",
    "\n",
    "gd()\n",
    "gc.collect()\n",
    "sgd()\n",
    "\n",
    "\n"
   ]
  },
  {
   "cell_type": "markdown",
   "metadata": {},
   "source": [
    "# 3. MLP"
   ]
  },
  {
   "cell_type": "markdown",
   "metadata": {},
   "source": [
    "Using tensorflow and keras to build a MLP to classify the txt file.<br>\n",
    "Since keras do not support gradient decent optimizer, I use adam instead.<br>"
   ]
  },
  {
   "cell_type": "code",
   "execution_count": 7,
   "metadata": {},
   "outputs": [
    {
     "name": "stdout",
     "output_type": "stream",
     "text": [
      "1.14.0\n"
     ]
    }
   ],
   "source": [
    "from tensorflow import keras\n",
    "\n",
    "import tensorflow as tf\n",
    "print (tf.__version__)"
   ]
  },
  {
   "cell_type": "code",
   "execution_count": 8,
   "metadata": {},
   "outputs": [
    {
     "name": "stderr",
     "output_type": "stream",
     "text": [
      "WARNING: Logging before flag parsing goes to stderr.\n",
      "W0920 23:36:44.685364 11020 deprecation.py:506] From C:\\Users\\gzha\\AppData\\Local\\Continuum\\anaconda3\\envs\\tfb\\lib\\site-packages\\tensorflow\\python\\ops\\init_ops.py:1251: calling VarianceScaling.__init__ (from tensorflow.python.ops.init_ops) with dtype is deprecated and will be removed in a future version.\n",
      "Instructions for updating:\n",
      "Call initializer instance with the dtype argument instead of passing it to the constructor\n"
     ]
    }
   ],
   "source": [
    "model = keras.Sequential([\n",
    "    keras.layers.Dense(256,activation=tf.nn.relu),\n",
    "    keras.layers.Dense(128,activation=tf.nn.relu),\n",
    "    keras.layers.Dense(64,activation=tf.nn.relu),\n",
    "    keras.layers.Dense(3,activation=tf.nn.softmax)\n",
    "])\n",
    "model.compile(optimizer='adam',\n",
    "              loss='categorical_crossentropy',\n",
    "              metrics=['accuracy']\n",
    ")\n"
   ]
  },
  {
   "cell_type": "code",
   "execution_count": 9,
   "metadata": {},
   "outputs": [],
   "source": [
    "def predict_mlp(x,model):\n",
    "    result=model.predict(x)\n",
    "    y=np.zeros((x.shape[0],3))\n",
    "    for i in range(x.shape[0]):\n",
    "        y[i][np.argmax(result[i])]=1\n",
    "    return y"
   ]
  },
  {
   "cell_type": "markdown",
   "metadata": {},
   "source": [
    "Implemented a 5 fold cross validation here."
   ]
  },
  {
   "cell_type": "code",
   "execution_count": 10,
   "metadata": {},
   "outputs": [
    {
     "name": "stdout",
     "output_type": "stream",
     "text": [
      "Epoch 1/2\n",
      "10873/10873 [==============================] - 3s 289us/sample - loss: 0.9524 - acc: 0.6123\n",
      "Epoch 2/2\n",
      "10873/10873 [==============================] - 2s 195us/sample - loss: 0.5343 - acc: 0.7450\n",
      "Estimate accuracy:  0.34473877851361295\n",
      "Epoch 1/2\n",
      "10873/10873 [==============================] - 2s 220us/sample - loss: 0.8066 - acc: 0.8096\n",
      "Epoch 2/2\n",
      "10873/10873 [==============================] - 2s 213us/sample - loss: 0.4724 - acc: 0.8160\n",
      "Estimate accuracy:  0.9701986754966887\n",
      "Epoch 1/2\n",
      "10873/10873 [==============================] - 2s 207us/sample - loss: 0.3625 - acc: 0.8216\n",
      "Epoch 2/2\n",
      "10873/10873 [==============================] - 2s 196us/sample - loss: 0.2821 - acc: 0.8529\n",
      "Estimate accuracy:  0.9742457689477557\n",
      "Epoch 1/2\n",
      "10873/10873 [==============================] - 2s 201us/sample - loss: 0.2136 - acc: 0.9360\n",
      "Epoch 2/2\n",
      "10873/10873 [==============================] - 2s 203us/sample - loss: 0.1468 - acc: 0.9637\n",
      "Estimate accuracy:  0.9610007358351729\n",
      "Epoch 1/2\n",
      "10872/10872 [==============================] - 2s 204us/sample - loss: 0.1001 - acc: 0.9712\n",
      "Epoch 2/2\n",
      "10872/10872 [==============================] - 2s 205us/sample - loss: 0.0695 - acc: 0.9788\n",
      "Estimate accuracy:  0.9477749172489885\n"
     ]
    }
   ],
   "source": [
    "n=xTrain.shape[0]\n",
    "\n",
    "xt2=[xTrain[int((i)*n/5):int((i+1)*n/5)] for i in range(5)]\n",
    "yt2=[yTrain[int((i)*n/5):int((i+1)*n/5)] for i in range(5)]\n",
    "for i in range(5):\n",
    "    xt=[]\n",
    "    yt=[]\n",
    "    xe=xt2[i]\n",
    "    ye=yt2[i]\n",
    "    for j in range(5):\n",
    "        if j!=i:\n",
    "            xt+=list(xt2[j])\n",
    "            yt+=list(yt2[j])\n",
    "    xt=np.array(xt)\n",
    "    yt=np.array(yt)\n",
    "    model.fit(xt,yt,epochs=2, batch_size=1000)\n",
    "    y=predict_mlp(xe,model)\n",
    "    correct=0\n",
    "    \n",
    "    for m in range(ye.shape[0]):\n",
    "        comp=1\n",
    "        for n in range(3):\n",
    "            if int(y[m][n])!=int(ye[m][n]):\n",
    "                comp=0\n",
    "        correct+=comp\n",
    "    print(\"Estimate accuracy: \",correct/ye.shape[0])"
   ]
  },
  {
   "cell_type": "code",
   "execution_count": 11,
   "metadata": {},
   "outputs": [
    {
     "name": "stdout",
     "output_type": "stream",
     "text": [
      "570 133 55\n",
      "Accuracy on txt1 : 0.7519788918205804\n",
      "148 3148 20\n",
      "Accuracy on txt2 : 0.9493365500603136\n",
      "153 61 1539\n",
      "Accuracy on txt3:  0.8779235596120936\n",
      "overall accuracy:  0.902179509181397\n"
     ]
    }
   ],
   "source": [
    "sum=0\n",
    "y=predict_mlp(x1E,model)\n",
    "r1,r2,r3=counting(y)\n",
    "sum=sum+r1+r2+r3\n",
    "print(\"Accuracy on txt1 :\",r1/(r1+r2+r3))\n",
    "rr1=r1\n",
    "y=predict_mlp(x2E,model)\n",
    "r1,r2,r3=counting(y)\n",
    "sum=sum+r1+r2+r3\n",
    "print(\"Accuracy on txt2 :\",r2/(r1+r2+r3))\n",
    "rr2=r2\n",
    "y=predict_mlp(x3E,model)\n",
    "r1,r2,r3=counting(y)\n",
    "sum=sum+r1+r2+r3\n",
    "print(\"Accuracy on txt3: \",r3/(r1+r2+r3))\n",
    "rr3=r3\n",
    "print(\"overall accuracy: \",(rr1+rr2+rr3)/sum)\n",
    "\n"
   ]
  },
  {
   "cell_type": "markdown",
   "metadata": {},
   "source": [
    "# 4. Result"
   ]
  },
  {
   "cell_type": "markdown",
   "metadata": {},
   "source": [
    "The result are:<br>\n",
    "<br>\n",
    "for logistic regression with gradient descent:<br>\n",
    "Accuracy on txt1 : 0.00395778364116095<br>\n",
    "Accuracy on txt2 : 0.9960796139927623<br>\n",
    "Accuracy on txt3:  0.0387906446092413<br>\n",
    "overall accuracy:  0.5790286596876609<br>\n",
    "<br>\n",
    "for logistic regression with stochastic gradient descent:<br>\n",
    "Accuracy on txt1 : 0.43535620052770446<br>\n",
    "Accuracy on txt2 : 0.9369722557297949<br>\n",
    "Accuracy on txt3:  0.814033086138049<br>\n",
    "overall accuracy:  0.8347348549854128<br>\n",
    "<br>\n",
    "for MLP:<br>\n",
    "Accuracy on txt1 : 0.7519788918205804<br>\n",
    "Accuracy on txt2 : 0.9493365500603136<br>\n",
    "Accuracy on txt3:  0.8779235596120936<br>\n",
    "overall accuracy:  0.902179509181397<br>\n",
    "<br>\n",
    "MLP has the best result. LR with gradient descent seems to be trapped by a local minimum. Stochastic gradient descent has a much better result. Among all three files the txt1 has the lowest classified rate. <br>"
   ]
  },
  {
   "cell_type": "code",
   "execution_count": null,
   "metadata": {},
   "outputs": [],
   "source": []
  }
 ],
 "metadata": {
  "kernelspec": {
   "display_name": "Python 3",
   "language": "python",
   "name": "python3"
  },
  "language_info": {
   "codemirror_mode": {
    "name": "ipython",
    "version": 3
   },
   "file_extension": ".py",
   "mimetype": "text/x-python",
   "name": "python",
   "nbconvert_exporter": "python",
   "pygments_lexer": "ipython3",
   "version": "3.6.9"
  }
 },
 "nbformat": 4,
 "nbformat_minor": 2
}
